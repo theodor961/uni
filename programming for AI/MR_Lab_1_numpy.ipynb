{
 "cells": [
  {
   "cell_type": "markdown",
   "metadata": {},
   "source": [
    "Introduction to Artificial Intelligence - Lab Session 1 - \n",
    "--\n",
    "At the end of this session, you will be able to : \n",
    "- Create and manage the Jupyter Notebooks environment to run code, insert text and math equations.\n",
    "- Perform basic matrix manipulations using Numpy. "
   ]
  },
  {
   "cell_type": "markdown",
   "metadata": {},
   "source": [
    "Part 1 - Intro to Jupyter Notebook\n",
    "--\n",
    "Here, we will only cover the basics. \n",
    "\n",
    "Jupyter Notebook is based on the .ipynb format (iPython Notebook), and is essentially a way to do rapid prototyping / demonstrations of scientific python. The basic idea is to define *cells*. \n",
    "Cells can be of several types, including python code, or rich text (using [markdown formatting](https://www.markdownguide.org/basic-syntax/)).\n",
    "\n",
    "When a code cell is evaluated (i.e. the python code will be executed), the output of this evaluation will show up right below the cell. \n",
    "\n",
    "When a text cell is evaluated, the text will be formatted. \n",
    "\n",
    "You can now do the \"User Interface Tour\" from the Help menu. \n",
    "\n",
    "When working with Jupyter Notebook, you will essentially switch between two modes : \n",
    "- The Edit mode in which you edit the content of the cells \n",
    "- The Command mode, that enables you to change the cell types. \n",
    "\n",
    "When in Command mode, you can select cells. If you select a single cell, you can edit it by simply pressing enter, or double clicking on it. "
   ]
  },
  {
   "cell_type": "markdown",
   "metadata": {},
   "source": [
    "For example, try editing THIS CELL and change its content. "
   ]
  },
  {
   "cell_type": "markdown",
   "metadata": {},
   "source": [
    "Now, edit the cell below, change the code, and when you're done, press Shift+Enter to evalute the code. "
   ]
  },
  {
   "cell_type": "code",
   "execution_count": 1,
   "metadata": {
    "ExecuteTime": {
     "end_time": "2023-10-04T13:09:55.169824Z",
     "start_time": "2023-10-04T13:09:55.162235Z"
    }
   },
   "outputs": [
    {
     "name": "stdout",
     "output_type": "stream",
     "text": [
      "32 + 64\n"
     ]
    }
   ],
   "source": [
    "### CELL TO BE EDITED\n",
    "\n",
    "a=32\n",
    "b= 2*a\n",
    "print(\"%d + %d\"%(a,b))"
   ]
  },
  {
   "cell_type": "code",
   "execution_count": 2,
   "metadata": {
    "ExecuteTime": {
     "end_time": "2023-10-04T13:09:55.177014Z",
     "start_time": "2023-10-04T13:09:55.172813Z"
    }
   },
   "outputs": [],
   "source": [
    "### CELL TO BE COMPLETED \n"
   ]
  },
  {
   "cell_type": "code",
   "execution_count": 3,
   "metadata": {
    "ExecuteTime": {
     "end_time": "2023-10-04T13:09:55.185987Z",
     "start_time": "2023-10-04T13:09:55.181998Z"
    }
   },
   "outputs": [],
   "source": [
    "### CELL TO BE COMPLETED \n"
   ]
  },
  {
   "cell_type": "markdown",
   "metadata": {},
   "source": [
    "Note that using Jupyter Notebook, if you evaluate a cell with a function followed by a \"?\" sign, the help of the function will pop up. \n",
    "\n",
    "Example : "
   ]
  },
  {
   "cell_type": "code",
   "execution_count": 1,
   "metadata": {
    "ExecuteTime": {
     "end_time": "2023-10-04T13:09:55.197248Z",
     "start_time": "2023-10-04T13:09:55.188989Z"
    }
   },
   "outputs": [
    {
     "name": "stdout",
     "output_type": "stream",
     "text": [
      "\u001b[1;31mSignature:\u001b[0m \u001b[0mos\u001b[0m\u001b[1;33m.\u001b[0m\u001b[0mlistdir\u001b[0m\u001b[1;33m(\u001b[0m\u001b[0mpath\u001b[0m\u001b[1;33m=\u001b[0m\u001b[1;32mNone\u001b[0m\u001b[1;33m)\u001b[0m\u001b[1;33m\u001b[0m\u001b[1;33m\u001b[0m\u001b[0m\n",
      "\u001b[1;31mDocstring:\u001b[0m\n",
      "Return a list containing the names of the files in the directory.\n",
      "\n",
      "path can be specified as either str, bytes, or a path-like object.  If path is bytes,\n",
      "  the filenames returned will also be bytes; in all other circumstances\n",
      "  the filenames returned will be str.\n",
      "If path is None, uses the path='.'.\n",
      "On some platforms, path may also be specified as an open file descriptor;\\\n",
      "  the file descriptor must refer to a directory.\n",
      "  If this functionality is unavailable, using it raises NotImplementedError.\n",
      "\n",
      "The list is in arbitrary order.  It does not include the special\n",
      "entries '.' and '..' even if they are present in the directory.\n",
      "\u001b[1;31mType:\u001b[0m      builtin_function_or_method"
     ]
    }
   ],
   "source": [
    "import os\n",
    "\n",
    "os.listdir?"
   ]
  },
  {
   "cell_type": "markdown",
   "metadata": {},
   "source": [
    "You can also display the code of a function using the syntax \"??\" "
   ]
  },
  {
   "cell_type": "code",
   "execution_count": 4,
   "metadata": {
    "ExecuteTime": {
     "end_time": "2023-10-04T13:09:55.205441Z",
     "start_time": "2023-10-04T13:09:55.200244Z"
    }
   },
   "outputs": [
    {
     "name": "stdout",
     "output_type": "stream",
     "text": [
      "\u001b[1;31mType:\u001b[0m        int\n",
      "\u001b[1;31mString form:\u001b[0m 5\n",
      "\u001b[1;31mDocstring:\u001b[0m  \n",
      "int([x]) -> integer\n",
      "int(x, base=10) -> integer\n",
      "\n",
      "Convert a number or string to an integer, or return 0 if no arguments\n",
      "are given.  If x is a number, return x.__int__().  For floating point\n",
      "numbers, this truncates towards zero.\n",
      "\n",
      "If x is not a number or if base is given, then x must be a string,\n",
      "bytes, or bytearray instance representing an integer literal in the\n",
      "given base.  The literal can be preceded by '+' or '-' and be surrounded\n",
      "by whitespace.  The base defaults to 10.  Valid bases are 0 and 2-36.\n",
      "Base 0 means to interpret the base from the string as an integer literal.\n",
      ">>> int('0b100', base=0)\n",
      "4"
     ]
    }
   ],
   "source": [
    "#A=5\n",
    "\n",
    "A??"
   ]
  },
  {
   "cell_type": "raw",
   "metadata": {},
   "source": [
    "The popup can be closed by pressing the Escape key. \n",
    "\n",
    "Use the listdir function to browse the content of some directories... \n"
   ]
  },
  {
   "cell_type": "code",
   "execution_count": 6,
   "metadata": {
    "ExecuteTime": {
     "end_time": "2023-10-04T13:09:55.212097Z",
     "start_time": "2023-10-04T13:09:55.208439Z"
    }
   },
   "outputs": [],
   "source": [
    "### CELL TO BE COMPLETED \n"
   ]
  },
  {
   "cell_type": "markdown",
   "metadata": {},
   "source": [
    "Part 2 - Introduction to Numpy\n",
    "--"
   ]
  },
  {
   "cell_type": "markdown",
   "metadata": {},
   "source": [
    "A code cell can contain any python code, including imports. Let's start by importing the Numpy package. "
   ]
  },
  {
   "cell_type": "code",
   "execution_count": 6,
   "metadata": {
    "ExecuteTime": {
     "end_time": "2023-10-04T13:09:55.408562Z",
     "start_time": "2023-10-04T13:09:55.215094Z"
    }
   },
   "outputs": [],
   "source": [
    "import numpy as np"
   ]
  },
  {
   "cell_type": "markdown",
   "metadata": {},
   "source": [
    "Numpy can be used to generate pseudo-random values from various distributions. In particular, a very useful distribution is the standard normal (zero mean and unit variance). Let's generate two vectors sampled from the normal distribution, using a length parameter that we'll be able to change if needed. "
   ]
  },
  {
   "cell_type": "code",
   "execution_count": 4,
   "metadata": {
    "ExecuteTime": {
     "end_time": "2023-10-04T13:09:55.422386Z",
     "start_time": "2023-10-04T13:09:55.415553Z"
    }
   },
   "outputs": [],
   "source": [
    "length = 50\n",
    "\n",
    "vecA = np.random.randn(length)\n",
    "vecB = np.random.randn(2*length)"
   ]
  },
  {
   "cell_type": "markdown",
   "metadata": {},
   "source": [
    "vecA and vecB are numpy *arrays*. One of their attributes can be fetched to check their *shape*"
   ]
  },
  {
   "cell_type": "code",
   "execution_count": 5,
   "metadata": {
    "ExecuteTime": {
     "end_time": "2023-10-04T13:09:55.446081Z",
     "start_time": "2023-10-04T13:09:55.428374Z"
    }
   },
   "outputs": [
    {
     "name": "stdout",
     "output_type": "stream",
     "text": [
      "(50,)\n",
      "(100,)\n"
     ]
    }
   ],
   "source": [
    "print(vecA.shape)\n",
    "print(vecB.shape)"
   ]
  },
  {
   "cell_type": "code",
   "execution_count": 6,
   "metadata": {
    "ExecuteTime": {
     "end_time": "2023-10-04T13:09:55.459036Z",
     "start_time": "2023-10-04T13:09:55.453054Z"
    }
   },
   "outputs": [
    {
     "name": "stdout",
     "output_type": "stream",
     "text": [
      "[ 1.31786317 -0.93286426 -1.5382329   2.50308988 -0.82139306  0.71802331\n",
      "  0.74947324  0.28759989 -0.9622208  -1.38371785 -0.18745742  1.53812372\n",
      "  0.19166718 -0.90937633 -0.51973173  1.87174708 -0.41917633  0.96904468\n",
      " -0.00341403  0.10015533  1.9041551   1.16280334  0.56306441  0.2292018\n",
      " -0.16539648 -0.47499637  0.76071638  0.71813539  0.38904562 -2.7099715\n",
      "  0.45307036 -0.67536297 -0.88765248  1.31678023 -0.71567019 -0.35706373\n",
      "  0.48241324 -0.13984262  1.70859898 -0.92693795 -0.76090749  0.50625094\n",
      " -1.35076117  0.19588787  0.23293266 -0.65288279 -0.65729463 -0.38977148\n",
      "  1.62682776  1.02633145]\n"
     ]
    }
   ],
   "source": [
    "print(vecA)"
   ]
  },
  {
   "cell_type": "markdown",
   "metadata": {},
   "source": [
    "Numpy arrays can be vectors as well as matrices, or any tensor. For example the following code will create tensors with 3 dimensions using the standard normal"
   ]
  },
  {
   "cell_type": "code",
   "execution_count": 34,
   "metadata": {
    "ExecuteTime": {
     "end_time": "2023-10-04T13:09:55.472087Z",
     "start_time": "2023-10-04T13:09:55.462028Z"
    }
   },
   "outputs": [
    {
     "name": "stdout",
     "output_type": "stream",
     "text": [
      "(3, 10, 4)\n",
      "[[[-1.32580425 -0.48255919 -0.98766166  0.25237071]\n",
      "  [-0.13739159  0.05083416 -0.10427686 -2.03667226]\n",
      "  [-0.79818457 -0.13309097 -0.25223945 -1.67956197]\n",
      "  [-0.3524598  -1.87848266 -1.91327065  0.25603252]\n",
      "  [-1.08392617 -0.24720021  0.71676951  0.61931341]\n",
      "  [ 1.79854047 -0.13596517  0.34852629  0.05314611]\n",
      "  [-0.54428085 -0.35286789  1.51032712  0.67087374]\n",
      "  [ 0.09040506 -0.73936129 -0.77113721  0.53993447]\n",
      "  [-0.69283308 -0.84966461 -0.15053618 -0.33783176]\n",
      "  [-1.47434434 -1.06251879  1.34949656  0.60618784]]\n",
      "\n",
      " [[-0.13902298 -1.13829047 -0.27569212  0.54799563]\n",
      "  [-1.43962019  0.16103076  0.93654827  0.41015942]\n",
      "  [ 0.7232185  -0.0747774   1.15399642 -1.27145182]\n",
      "  [-1.2540509   0.02432545 -0.06730793  0.22542962]\n",
      "  [-0.01069024 -1.18906937  0.33288748  0.07894824]\n",
      "  [-0.76805791 -0.31209769 -1.0454074  -1.74082107]\n",
      "  [-1.06846923  1.18214288  0.0959451   1.76827975]\n",
      "  [-1.88165549 -0.39697308 -0.76361966  0.50772579]\n",
      "  [-0.51475019  0.68156996  1.47558925  0.49153582]\n",
      "  [-0.20754046  0.77207662  1.63529537  0.54476236]]\n",
      "\n",
      " [[-0.48598178 -0.88211446 -2.27017012  0.4479179 ]\n",
      "  [ 0.22739074 -0.16901318 -2.52747369 -0.32534918]\n",
      "  [ 0.20923585  0.02462161 -1.87596939  0.40930692]\n",
      "  [-0.14954109  0.2758493   1.22872692  0.03433322]\n",
      "  [ 1.72511991  1.92962859 -0.4332205   1.48139967]\n",
      "  [-0.60137656 -0.23606959 -0.54489365 -0.60839059]\n",
      "  [ 0.08562434  2.30719848  0.5470507  -0.24184501]\n",
      "  [ 0.54536611 -0.08593484 -1.14749465  0.2564129 ]\n",
      "  [ 1.57519138 -1.74324411  1.11562557 -1.16767525]\n",
      "  [ 0.83861083  0.13564406  0.57878171  0.2946917 ]]]\n"
     ]
    }
   ],
   "source": [
    "arrayC = np.random.randn(3,10,4)\n",
    "print(arrayC.shape)\n",
    "print(arrayC)"
   ]
  },
  {
   "cell_type": "markdown",
   "metadata": {},
   "source": [
    "Note that the random package of Numpy has several other interesting functions. Try to test the two functions proposed in the cell below. \n",
    "\n",
    "Try uncommenting the two functions below one by one, look up their help page, and try to use them. "
   ]
  },
  {
   "cell_type": "code",
   "execution_count": 12,
   "metadata": {
    "ExecuteTime": {
     "end_time": "2023-10-04T13:09:55.478052Z",
     "start_time": "2023-10-04T13:09:55.474080Z"
    }
   },
   "outputs": [],
   "source": [
    "### CELL TO BE Edited \n",
    "\n",
    "#np.random.randint\n",
    "#np.random.permutation"
   ]
  },
  {
   "cell_type": "code",
   "execution_count": 30,
   "metadata": {},
   "outputs": [
    {
     "name": "stdout",
     "output_type": "stream",
     "text": [
      "(4,)\n",
      "[390  13 187 173]\n",
      "[2 1 0]\n"
     ]
    }
   ],
   "source": [
    "arrayD = np.random.randint(3,500,4)\n",
    "print(arrayD.shape)\n",
    "print (arrayD)\n",
    "\n",
    "\n",
    "print(np.random.permutation(3))\n",
    "print(np.random.permutation([3,500,4]))"
   ]
  },
  {
   "cell_type": "markdown",
   "metadata": {},
   "source": [
    "A very important features of arrays is the fact they can be used as *iterables*. For example, you can iterate over the dimensions of an array by simply \"looping\" over it using a *for* loop"
   ]
  },
  {
   "cell_type": "code",
   "execution_count": 13,
   "metadata": {
    "ExecuteTime": {
     "end_time": "2023-10-04T13:09:55.487184Z",
     "start_time": "2023-10-04T13:09:55.482047Z"
    }
   },
   "outputs": [
    {
     "name": "stdout",
     "output_type": "stream",
     "text": [
      "(10, 4)\n",
      "(10, 4)\n",
      "(10, 4)\n"
     ]
    }
   ],
   "source": [
    "for curdim in arrayC:\n",
    "    print(curdim.shape)"
   ]
  },
  {
   "cell_type": "markdown",
   "metadata": {},
   "source": [
    "Also possible to enumerate along the dimension in order to get the index of the current \"smaller\" array\n"
   ]
  },
  {
   "cell_type": "code",
   "execution_count": 14,
   "metadata": {
    "ExecuteTime": {
     "end_time": "2023-10-04T13:09:55.499390Z",
     "start_time": "2023-10-04T13:09:55.490187Z"
    }
   },
   "outputs": [
    {
     "name": "stdout",
     "output_type": "stream",
     "text": [
      "Initial shape is 3 10 4\n",
      "Iterating over the first dimension using an index k\n",
      "k = 0, shape is 10 4\n",
      "k = 1, shape is 10 4\n",
      "k = 2, shape is 10 4\n"
     ]
    }
   ],
   "source": [
    "print('Initial shape is %d %d %d' % (arrayC.shape[0],arrayC.shape[1],arrayC.shape[2]))\n",
    "print('Iterating over the first dimension using an index k')\n",
    "for k,curdim in enumerate(arrayC):\n",
    "    print('k = %d, shape is %d %d' % (k,curdim.shape[0],curdim.shape[1]))"
   ]
  },
  {
   "cell_type": "markdown",
   "metadata": {},
   "source": [
    "Use the previous principle in order to calculate the average of each 10x4 subvector, using the function np.mean()"
   ]
  },
  {
   "cell_type": "code",
   "execution_count": 48,
   "metadata": {
    "ExecuteTime": {
     "end_time": "2023-10-04T13:09:55.507255Z",
     "start_time": "2023-10-04T13:09:55.503386Z"
    }
   },
   "outputs": [
    {
     "name": "stdout",
     "output_type": "stream",
     "text": [
      "[-0.29153413692733, -0.045247573200845624, 0.019449269160275]\n"
     ]
    }
   ],
   "source": [
    "\n",
    "# Task 1: Calculate the average of each 500x4 subvector using np.mean()\n",
    "subvector_averages = []\n",
    "for k, curdim in enumerate(arrayC):\n",
    "    num_subvectors = curdim.shape[0] // 10\n",
    " \n",
    "    subvectors = np.split(curdim, num_subvectors)  # Split along the first dimension into subvectors\n",
    "    for subvector in subvectors:\n",
    "        subvector_average = np.mean(subvector)  # Calculate the average of each subvector\n",
    "        subvector_averages.append(subvector_average)\n",
    "print(subvector_averages)"
   ]
  },
  {
   "cell_type": "markdown",
   "metadata": {},
   "source": [
    "Check that you obtain the same result when directly computing the average over the two axis 1 and 2 (look up the arguments of np.mean) "
   ]
  },
  {
   "cell_type": "code",
   "execution_count": 37,
   "metadata": {
    "ExecuteTime": {
     "end_time": "2023-10-04T13:09:55.514530Z",
     "start_time": "2023-10-04T13:09:55.510252Z"
    }
   },
   "outputs": [
    {
     "name": "stdout",
     "output_type": "stream",
     "text": [
      "\n",
      "Shape of direct_average: (3,)\n",
      "Average using direct computation:\n",
      "[-0.29153414 -0.04524757  0.01944927]\n"
     ]
    }
   ],
   "source": [
    "### CELL TO BE COMPLETED \n",
    "direct_average = np.mean(arrayC, axis=(1, 2))\n",
    "\n",
    "print('\\nShape of direct_average:', direct_average.shape)\n",
    "print('Average using direct computation:')\n",
    "print(direct_average)"
   ]
  },
  {
   "cell_type": "markdown",
   "metadata": {},
   "source": [
    "These features will prove to be very useful when manipulate large arrays. "
   ]
  },
  {
   "cell_type": "markdown",
   "metadata": {},
   "source": [
    "Another important operation when working with Numpy Arrays is *reshaping*. Essentially, *reshaping* consists in changing the organisation of the array (in terms of dimension), while keeping the same number of elements. For example, a 20x10 2D array can be converted into a 4x5x10 array"
   ]
  },
  {
   "cell_type": "code",
   "execution_count": 52,
   "metadata": {
    "ExecuteTime": {
     "end_time": "2023-10-04T13:09:55.538370Z",
     "start_time": "2023-10-04T13:09:55.523518Z"
    }
   },
   "outputs": [
    {
     "name": "stdout",
     "output_type": "stream",
     "text": [
      "Initial shape of A is 2 x 3  x 4\n",
      "[[[4 1 3 3]\n",
      "  [4 4 1 3]\n",
      "  [1 3 1 4]]\n",
      "\n",
      " [[2 1 1 3]\n",
      "  [3 1 2 2]\n",
      "  [2 4 2 3]]]\n",
      "B is A reshaped to 6 x 4\n",
      "[[4 1 3 3]\n",
      " [4 4 1 3]\n",
      " [1 3 1 4]\n",
      " [2 1 1 3]\n",
      " [3 1 2 2]\n",
      " [2 4 2 3]]\n"
     ]
    }
   ],
   "source": [
    "A = np.random.randint(1,5,(2,3,4))\n",
    "print('Initial shape of A is %d x %d  x %d' % (A.shape[0],A.shape[1],A.shape[2]))\n",
    "print(A)\n",
    "B = A.reshape((6,4))\n",
    "print('B is A reshaped to %d x %d' % (B.shape[0],B.shape[1]))\n",
    "print(B)"
   ]
  },
  {
   "cell_type": "markdown",
   "metadata": {},
   "source": [
    "One property of numpy that is really important is broadcasting. The goal of broadcasting is to simplify the vectorization of certain operations when the vectors do not have the same shape. For example you can easily perform element-wise multiplication.\n",
    "\n",
    "To test this try doing an element-wise multiplication of the vector x and matrix y below"
   ]
  },
  {
   "cell_type": "code",
   "execution_count": 53,
   "metadata": {
    "ExecuteTime": {
     "end_time": "2023-10-04T13:09:55.557035Z",
     "start_time": "2023-10-04T13:09:55.548158Z"
    }
   },
   "outputs": [
    {
     "name": "stdout",
     "output_type": "stream",
     "text": [
      "X:  [2 3]\n",
      "Y: \n",
      "[[ 4  1]\n",
      " [ 9 10]\n",
      " [12 13]]\n",
      "X shape is:  (2,)\n",
      "Y shape is:  (3, 2)\n",
      "Element-wise multiplication shape: (3, 2)\n",
      "Element-wise multiplication result:\n",
      "[[ 8  3]\n",
      " [18 30]\n",
      " [24 39]]\n"
     ]
    }
   ],
   "source": [
    "x = np.array([2,3])\n",
    "y = np.array([[4,1],[9,10],[12,13]])\n",
    "result = x*y\n",
    "print(\"X: \",x)\n",
    "print(\"Y: \")\n",
    "print(y)\n",
    "print(\"X shape is: \",x.shape)\n",
    "print(\"Y shape is: \",y.shape)\n",
    "\n",
    "# the elements of array x are multiplied with the corresponding elements of array y\n",
    "print(\"Element-wise multiplication shape:\", result.shape)\n",
    "print(\"Element-wise multiplication result:\")\n",
    "print(result)\n"
   ]
  },
  {
   "cell_type": "markdown",
   "metadata": {},
   "source": [
    "Another very powerful tool in numpy is indexing. You can use either an integer vector or a boolean vector to choose which indexes you want to extract from your numpy tensor.\n",
    "\n",
    "Consider that we want to extract all elements from the first line of your vector y that have a higher value than 1, you would have to do:"
   ]
  },
  {
   "cell_type": "code",
   "execution_count": 19,
   "metadata": {
    "ExecuteTime": {
     "end_time": "2023-10-04T13:09:55.566102Z",
     "start_time": "2023-10-04T13:09:55.560031Z"
    }
   },
   "outputs": [
    {
     "name": "stdout",
     "output_type": "stream",
     "text": [
      "[4 1]\n",
      "Result:  [4]\n"
     ]
    }
   ],
   "source": [
    "first_row = y[0]\n",
    "print(first_row)\n",
    "first_row_higher_than_one = first_row > 1\n",
    "print(\"Result: \", first_row[first_row_higher_than_one])"
   ]
  },
  {
   "cell_type": "markdown",
   "metadata": {},
   "source": [
    "You can also choose specific lines to query, for example if you want to query lines 0 and 2"
   ]
  },
  {
   "cell_type": "code",
   "execution_count": 54,
   "metadata": {
    "ExecuteTime": {
     "end_time": "2023-10-04T13:09:55.576671Z",
     "start_time": "2023-10-04T13:09:55.570090Z"
    }
   },
   "outputs": [
    {
     "name": "stdout",
     "output_type": "stream",
     "text": [
      "Result:  [ 4 12 13]\n"
     ]
    }
   ],
   "source": [
    "rows = [0,2]\n",
    "rows_result = y[rows]\n",
    "values_higher_than_one = rows_result > 1\n",
    "print(\"Result: \", rows_result[values_higher_than_one])"
   ]
  },
  {
   "cell_type": "markdown",
   "metadata": {},
   "source": [
    "You can also save and load your numpy tensors using np.savez and np.load. This will be really important in the next courses as this enable you to generate your data only once instead of having to do all the calculations every time you need your data."
   ]
  },
  {
   "cell_type": "code",
   "execution_count": 57,
   "metadata": {
    "ExecuteTime": {
     "end_time": "2023-10-04T13:09:55.595639Z",
     "start_time": "2023-10-04T13:09:55.579668Z"
    }
   },
   "outputs": [],
   "source": [
    "filename = \"x.npz\"\n",
    "np.savez(filename,data=x)"
   ]
  },
  {
   "cell_type": "code",
   "execution_count": 58,
   "metadata": {
    "ExecuteTime": {
     "end_time": "2023-10-04T13:09:55.606864Z",
     "start_time": "2023-10-04T13:09:55.598636Z"
    }
   },
   "outputs": [
    {
     "name": "stdout",
     "output_type": "stream",
     "text": [
      "Your tensor was loaded and contains:  [2 3]\n"
     ]
    }
   ],
   "source": [
    "loaded_npz = np.load(filename)\n",
    "loaded_tensor = loaded_npz[\"data\"]\n",
    "print(\"Your tensor was loaded and contains: \", loaded_tensor)"
   ]
  }
 ],
 "metadata": {
  "kernelspec": {
   "display_name": "Python 3 (ipykernel)",
   "language": "python",
   "name": "python3"
  },
  "language_info": {
   "codemirror_mode": {
    "name": "ipython",
    "version": 3
   },
   "file_extension": ".py",
   "mimetype": "text/x-python",
   "name": "python",
   "nbconvert_exporter": "python",
   "pygments_lexer": "ipython3",
   "version": "3.11.3"
  },
  "toc": {
   "base_numbering": 1,
   "nav_menu": {},
   "number_sections": true,
   "sideBar": true,
   "skip_h1_title": false,
   "title_cell": "Table of Contents",
   "title_sidebar": "Contents",
   "toc_cell": false,
   "toc_position": {},
   "toc_section_display": true,
   "toc_window_display": false
  },
  "varInspector": {
   "cols": {
    "lenName": 16,
    "lenType": 16,
    "lenVar": 40
   },
   "kernels_config": {
    "python": {
     "delete_cmd_postfix": "",
     "delete_cmd_prefix": "del ",
     "library": "var_list.py",
     "varRefreshCmd": "print(var_dic_list())"
    },
    "r": {
     "delete_cmd_postfix": ") ",
     "delete_cmd_prefix": "rm(",
     "library": "var_list.r",
     "varRefreshCmd": "cat(var_dic_list()) "
    }
   },
   "types_to_exclude": [
    "module",
    "function",
    "builtin_function_or_method",
    "instance",
    "_Feature"
   ],
   "window_display": false
  }
 },
 "nbformat": 4,
 "nbformat_minor": 4
}
